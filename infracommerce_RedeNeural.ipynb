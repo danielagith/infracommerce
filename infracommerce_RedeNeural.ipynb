{
 "cells": [
  {
   "cell_type": "code",
   "execution_count": null,
   "id": "ae9530e3-3260-4aca-9bc8-30ffc094f0ce",
   "metadata": {},
   "outputs": [],
   "source": [
    "!pip install scikit-plot -q"
   ]
  },
  {
   "cell_type": "code",
   "execution_count": 212,
   "id": "9289ed0b-54ef-4396-b279-adc99dfee090",
   "metadata": {},
   "outputs": [],
   "source": [
    "import openpyxl #biblioteca para abrir arquivos em excel\n",
    "import numpy as np\n",
    "import pandas as pd\n",
    "import matplotlib.pyplot as plt\n",
    "import seaborn as sns \n",
    "from sklearn.model_selection import train_test_split, GridSearchCV, RandomizedSearchCV # biblioteca para treino da arvore de decisão e otimização de hiperparâmetros\n",
    "from sklearn.tree import DecisionTreeClassifier, DecisionTreeRegressor #para classificação e regressão as variáveis\n",
    "from sklearn.metrics import accuracy_score, classification_report, confusion_matrix # biblioteca para métricas do modelo\n",
    "from sklearn.ensemble import RandomForestClassifier\n",
    "#bibliotecas para visualização das árvore arvore de decisão\n",
    "from sklearn.tree import export_text\n",
    "from sklearn import tree\n",
    "from IPython.display import Image  \n",
    "from io import StringIO \n",
    "from sklearn.tree import export_graphviz\n",
    "import pydot \n",
    "from sklearn.datasets import load_iris\n",
    "import graphviz"
   ]
  },
  {
   "cell_type": "code",
   "execution_count": 213,
   "id": "76b90a5a-b3a5-4a00-983a-f97dd3136193",
   "metadata": {},
   "outputs": [],
   "source": [
    "sns.set_style()\n",
    "pd.set_option('display.max_columns', 25)"
   ]
  },
  {
   "cell_type": "code",
   "execution_count": 214,
   "id": "919ca78b-d525-4b9b-b7c0-96903fbf5693",
   "metadata": {},
   "outputs": [],
   "source": [
    "#carregando os dados\n",
    "bd1 = pd.read_excel(\"defaultCreditcardClients.xls\")"
   ]
  },
  {
   "cell_type": "code",
   "execution_count": null,
   "id": "6c881628-99f4-4478-bbf3-abbb8120bce1",
   "metadata": {},
   "outputs": [],
   "source": [
    "# Aqui retiramos a linha onde tinha apenas o nome da variável, pois esta estava sendo contada como valor sem o ser.\n",
    "#Logo, bd1_copy é o mesmo bd1 só que sem os cabeçalhos descritivos\n",
    "bd1_copy = bd1.iloc[1:]\n",
    "bd1_copy"
   ]
  },
  {
   "cell_type": "code",
   "execution_count": 223,
   "id": "e6b054cb-d151-4052-b3d0-2c9099032a5d",
   "metadata": {},
   "outputs": [],
   "source": [
    "# Dividindo os dados em features eixo(X) e variável alvo eixo(y)\n",
    "X = bd1_copy.drop(['Y'],  axis=1)\n",
    "y = bd1_copy['Y'].astype(int)"
   ]
  },
  {
   "cell_type": "code",
   "execution_count": 230,
   "id": "8c455ced-57cd-40f2-9636-e827a7eeae24",
   "metadata": {},
   "outputs": [],
   "source": [
    "# Dividindo os dados em features eixo(X) e variável alvo eixo(y)\n",
    "X = bd1_copy.drop(columns=['Y'],  axis=1)\n",
    "y = bd1_copy['Y'].astype(int)"
   ]
  },
  {
   "cell_type": "code",
   "execution_count": 224,
   "id": "6c05d74b-d960-46da-8620-04e5f5b253f1",
   "metadata": {},
   "outputs": [],
   "source": [
    "# Divida os dados em conjuntos de treinamento e teste\n",
    "X_train, X_test, y_train, y_test = train_test_split(X, y, test_size=0.2, random_state=42)"
   ]
  },
  {
   "cell_type": "code",
   "execution_count": null,
   "id": "f32f6dcd-aaf5-4479-844f-709a6e1906b0",
   "metadata": {},
   "outputs": [],
   "source": []
  },
  {
   "cell_type": "code",
   "execution_count": null,
   "id": "a915036d-9494-4a5b-90e2-e236f208769d",
   "metadata": {},
   "outputs": [],
   "source": []
  }
 ],
 "metadata": {
  "kernelspec": {
   "display_name": "Python 3 (ipykernel)",
   "language": "python",
   "name": "python3"
  },
  "language_info": {
   "codemirror_mode": {
    "name": "ipython",
    "version": 3
   },
   "file_extension": ".py",
   "mimetype": "text/x-python",
   "name": "python",
   "nbconvert_exporter": "python",
   "pygments_lexer": "ipython3",
   "version": "3.11.5"
  }
 },
 "nbformat": 4,
 "nbformat_minor": 5
}

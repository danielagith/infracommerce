{
 "cells": [
  {
   "cell_type": "code",
   "execution_count": null,
   "id": "ae9530e3-3260-4aca-9bc8-30ffc094f0ce",
   "metadata": {},
   "outputs": [],
   "source": [
    "!pip install scikit-plot -q"
   ]
  },
  {
   "cell_type": "code",
   "execution_count": 21,
   "id": "9289ed0b-54ef-4396-b279-adc99dfee090",
   "metadata": {},
   "outputs": [],
   "source": [
    "import openpyxl #biblioteca para abrir arquivos em excel\n",
    "import numpy as np\n",
    "import pandas as pd\n",
    "import matplotlib.pyplot as plt\n",
    "import seaborn as sns \n",
    "from sklearn.model_selection import train_test_split, GridSearchCV, RandomizedSearchCV # biblioteca para treino da arvore de decisão e otimização de hiperparâmetros\n",
    "from sklearn.tree import DecisionTreeClassifier, DecisionTreeRegressor #para classificação e regressão as variáveis\n",
    "from sklearn.metrics import accuracy_score, classification_report, confusion_matrix # biblioteca para métricas do modelo\n",
    "from sklearn.ensemble import RandomForestClassifier, VotingClassifier\n",
    "from sklearn.neural_network import MLPClassifier # biblioteca de rede neural\n",
    "#bibliotecas para visualização das árvore arvore de decisão\n",
    "from sklearn.tree import export_text\n",
    "from sklearn import tree\n",
    "from IPython.display import Image  \n",
    "from io import StringIO \n",
    "from sklearn.tree import export_graphviz\n",
    "import pydot \n",
    "from sklearn.datasets import load_iris\n",
    "import graphviz"
   ]
  },
  {
   "cell_type": "code",
   "execution_count": 8,
   "id": "76b90a5a-b3a5-4a00-983a-f97dd3136193",
   "metadata": {},
   "outputs": [],
   "source": [
    "#comando para exibição de todas as colunas do meio do dataframe que, este este, seriam ocultadas pelo jupyter.\n",
    "pd.set_option('display.max_columns', 25)"
   ]
  },
  {
   "cell_type": "code",
   "execution_count": 9,
   "id": "919ca78b-d525-4b9b-b7c0-96903fbf5693",
   "metadata": {},
   "outputs": [],
   "source": [
    "#carregando os dados\n",
    "bd1 = pd.read_excel(\"defaultCreditcardClients.xls\")"
   ]
  },
  {
   "cell_type": "code",
   "execution_count": null,
   "id": "6c881628-99f4-4478-bbf3-abbb8120bce1",
   "metadata": {},
   "outputs": [],
   "source": [
    "# Aqui retiramos a linha onde tinha apenas o nome da variável, pois esta estava sendo contada como valor sem o ser.\n",
    "#Logo, bd1_copy é o mesmo bd1 só que sem os cabeçalhos descritivos\n",
    "bd1_copy = bd1.iloc[1:]\n",
    "bd1_copy"
   ]
  },
  {
   "cell_type": "code",
   "execution_count": 14,
   "id": "022d9cdc-0961-4a0f-b16a-65dc9d80ebbe",
   "metadata": {},
   "outputs": [],
   "source": [
    "#exclusão da coluna 'Unnamed: 0'\n",
    "bd1.drop('Unnamed: 0', axis=1, inplace=True)"
   ]
  },
  {
   "cell_type": "code",
   "execution_count": 15,
   "id": "e6b054cb-d151-4052-b3d0-2c9099032a5d",
   "metadata": {},
   "outputs": [],
   "source": [
    "# Dividindo os dados em features eixo(X) e variável alvo eixo(y)\n",
    "X = bd1_copy.drop(['Y'],  axis=1)\n",
    "y = bd1_copy['Y'].astype(int)"
   ]
  },
  {
   "cell_type": "code",
   "execution_count": 16,
   "id": "8c455ced-57cd-40f2-9636-e827a7eeae24",
   "metadata": {},
   "outputs": [],
   "source": [
    "# Dividindo os dados em features eixo(X) e variável alvo eixo(y)\n",
    "X = bd1_copy.drop(columns=['Y'],  axis=1)\n",
    "y = bd1_copy['Y'].astype(int)"
   ]
  },
  {
   "cell_type": "code",
   "execution_count": 18,
   "id": "6c05d74b-d960-46da-8620-04e5f5b253f1",
   "metadata": {},
   "outputs": [],
   "source": [
    "# Divida os dados em conjuntos de treinamento e teste\n",
    "X_train, X_test, y_train, y_test = train_test_split(X, y, test_size=0.2, random_state=42, stratify=y)"
   ]
  },
  {
   "cell_type": "code",
   "execution_count": 33,
   "id": "f32f6dcd-aaf5-4479-844f-709a6e1906b0",
   "metadata": {},
   "outputs": [],
   "source": [
    "# Defina modelos individuais (árvore de decisão e rede neural, por exemplo)\n",
    "tree_model = RandomForestClassifier(n_estimators=1, random_state=42)\n",
    "neural_network_model = MLPClassifier(hidden_layer_sizes=(50, 50), max_iter=500, random_state=42)\n",
    "\n",
    "\n"
   ]
  },
  {
   "cell_type": "code",
   "execution_count": 34,
   "id": "a915036d-9494-4a5b-90e2-e236f208769d",
   "metadata": {},
   "outputs": [],
   "source": [
    "# Crie o ensemble com VotingClassifier\n",
    "ensemble_model = VotingClassifier(estimators=[\n",
    "    ('tree', tree_model),\n",
    "    ('neural_network', neural_network_model)\n",
    "], voting='hard')  # 'hard' para votação por maioria, 'soft' para votação ponderada\n",
    "\n"
   ]
  },
  {
   "cell_type": "code",
   "execution_count": 35,
   "id": "c5c74364-6a7f-4da2-81b3-217e875324bb",
   "metadata": {},
   "outputs": [
    {
     "data": {
      "text/html": [
       "<style>#sk-container-id-3 {color: black;}#sk-container-id-3 pre{padding: 0;}#sk-container-id-3 div.sk-toggleable {background-color: white;}#sk-container-id-3 label.sk-toggleable__label {cursor: pointer;display: block;width: 100%;margin-bottom: 0;padding: 0.3em;box-sizing: border-box;text-align: center;}#sk-container-id-3 label.sk-toggleable__label-arrow:before {content: \"▸\";float: left;margin-right: 0.25em;color: #696969;}#sk-container-id-3 label.sk-toggleable__label-arrow:hover:before {color: black;}#sk-container-id-3 div.sk-estimator:hover label.sk-toggleable__label-arrow:before {color: black;}#sk-container-id-3 div.sk-toggleable__content {max-height: 0;max-width: 0;overflow: hidden;text-align: left;background-color: #f0f8ff;}#sk-container-id-3 div.sk-toggleable__content pre {margin: 0.2em;color: black;border-radius: 0.25em;background-color: #f0f8ff;}#sk-container-id-3 input.sk-toggleable__control:checked~div.sk-toggleable__content {max-height: 200px;max-width: 100%;overflow: auto;}#sk-container-id-3 input.sk-toggleable__control:checked~label.sk-toggleable__label-arrow:before {content: \"▾\";}#sk-container-id-3 div.sk-estimator input.sk-toggleable__control:checked~label.sk-toggleable__label {background-color: #d4ebff;}#sk-container-id-3 div.sk-label input.sk-toggleable__control:checked~label.sk-toggleable__label {background-color: #d4ebff;}#sk-container-id-3 input.sk-hidden--visually {border: 0;clip: rect(1px 1px 1px 1px);clip: rect(1px, 1px, 1px, 1px);height: 1px;margin: -1px;overflow: hidden;padding: 0;position: absolute;width: 1px;}#sk-container-id-3 div.sk-estimator {font-family: monospace;background-color: #f0f8ff;border: 1px dotted black;border-radius: 0.25em;box-sizing: border-box;margin-bottom: 0.5em;}#sk-container-id-3 div.sk-estimator:hover {background-color: #d4ebff;}#sk-container-id-3 div.sk-parallel-item::after {content: \"\";width: 100%;border-bottom: 1px solid gray;flex-grow: 1;}#sk-container-id-3 div.sk-label:hover label.sk-toggleable__label {background-color: #d4ebff;}#sk-container-id-3 div.sk-serial::before {content: \"\";position: absolute;border-left: 1px solid gray;box-sizing: border-box;top: 0;bottom: 0;left: 50%;z-index: 0;}#sk-container-id-3 div.sk-serial {display: flex;flex-direction: column;align-items: center;background-color: white;padding-right: 0.2em;padding-left: 0.2em;position: relative;}#sk-container-id-3 div.sk-item {position: relative;z-index: 1;}#sk-container-id-3 div.sk-parallel {display: flex;align-items: stretch;justify-content: center;background-color: white;position: relative;}#sk-container-id-3 div.sk-item::before, #sk-container-id-3 div.sk-parallel-item::before {content: \"\";position: absolute;border-left: 1px solid gray;box-sizing: border-box;top: 0;bottom: 0;left: 50%;z-index: -1;}#sk-container-id-3 div.sk-parallel-item {display: flex;flex-direction: column;z-index: 1;position: relative;background-color: white;}#sk-container-id-3 div.sk-parallel-item:first-child::after {align-self: flex-end;width: 50%;}#sk-container-id-3 div.sk-parallel-item:last-child::after {align-self: flex-start;width: 50%;}#sk-container-id-3 div.sk-parallel-item:only-child::after {width: 0;}#sk-container-id-3 div.sk-dashed-wrapped {border: 1px dashed gray;margin: 0 0.4em 0.5em 0.4em;box-sizing: border-box;padding-bottom: 0.4em;background-color: white;}#sk-container-id-3 div.sk-label label {font-family: monospace;font-weight: bold;display: inline-block;line-height: 1.2em;}#sk-container-id-3 div.sk-label-container {text-align: center;}#sk-container-id-3 div.sk-container {/* jupyter's `normalize.less` sets `[hidden] { display: none; }` but bootstrap.min.css set `[hidden] { display: none !important; }` so we also need the `!important` here to be able to override the default hidden behavior on the sphinx rendered scikit-learn.org. See: https://github.com/scikit-learn/scikit-learn/issues/21755 */display: inline-block !important;position: relative;}#sk-container-id-3 div.sk-text-repr-fallback {display: none;}</style><div id=\"sk-container-id-3\" class=\"sk-top-container\"><div class=\"sk-text-repr-fallback\"><pre>VotingClassifier(estimators=[(&#x27;tree&#x27;,\n",
       "                              RandomForestClassifier(n_estimators=1,\n",
       "                                                     random_state=42)),\n",
       "                             (&#x27;neural_network&#x27;,\n",
       "                              MLPClassifier(hidden_layer_sizes=(50, 50),\n",
       "                                            max_iter=500, random_state=42))])</pre><b>In a Jupyter environment, please rerun this cell to show the HTML representation or trust the notebook. <br />On GitHub, the HTML representation is unable to render, please try loading this page with nbviewer.org.</b></div><div class=\"sk-container\" hidden><div class=\"sk-item sk-dashed-wrapped\"><div class=\"sk-label-container\"><div class=\"sk-label sk-toggleable\"><input class=\"sk-toggleable__control sk-hidden--visually\" id=\"sk-estimator-id-7\" type=\"checkbox\" ><label for=\"sk-estimator-id-7\" class=\"sk-toggleable__label sk-toggleable__label-arrow\">VotingClassifier</label><div class=\"sk-toggleable__content\"><pre>VotingClassifier(estimators=[(&#x27;tree&#x27;,\n",
       "                              RandomForestClassifier(n_estimators=1,\n",
       "                                                     random_state=42)),\n",
       "                             (&#x27;neural_network&#x27;,\n",
       "                              MLPClassifier(hidden_layer_sizes=(50, 50),\n",
       "                                            max_iter=500, random_state=42))])</pre></div></div></div><div class=\"sk-parallel\"><div class=\"sk-parallel-item\"><div class=\"sk-item\"><div class=\"sk-label-container\"><div class=\"sk-label sk-toggleable\"><label>tree</label></div></div><div class=\"sk-serial\"><div class=\"sk-item\"><div class=\"sk-estimator sk-toggleable\"><input class=\"sk-toggleable__control sk-hidden--visually\" id=\"sk-estimator-id-8\" type=\"checkbox\" ><label for=\"sk-estimator-id-8\" class=\"sk-toggleable__label sk-toggleable__label-arrow\">RandomForestClassifier</label><div class=\"sk-toggleable__content\"><pre>RandomForestClassifier(n_estimators=1, random_state=42)</pre></div></div></div></div></div></div><div class=\"sk-parallel-item\"><div class=\"sk-item\"><div class=\"sk-label-container\"><div class=\"sk-label sk-toggleable\"><label>neural_network</label></div></div><div class=\"sk-serial\"><div class=\"sk-item\"><div class=\"sk-estimator sk-toggleable\"><input class=\"sk-toggleable__control sk-hidden--visually\" id=\"sk-estimator-id-9\" type=\"checkbox\" ><label for=\"sk-estimator-id-9\" class=\"sk-toggleable__label sk-toggleable__label-arrow\">MLPClassifier</label><div class=\"sk-toggleable__content\"><pre>MLPClassifier(hidden_layer_sizes=(50, 50), max_iter=500, random_state=42)</pre></div></div></div></div></div></div></div></div></div></div>"
      ],
      "text/plain": [
       "VotingClassifier(estimators=[('tree',\n",
       "                              RandomForestClassifier(n_estimators=1,\n",
       "                                                     random_state=42)),\n",
       "                             ('neural_network',\n",
       "                              MLPClassifier(hidden_layer_sizes=(50, 50),\n",
       "                                            max_iter=500, random_state=42))])"
      ]
     },
     "execution_count": 35,
     "metadata": {},
     "output_type": "execute_result"
    }
   ],
   "source": [
    "# Treine o modelo ensemble\n",
    "ensemble_model.fit(X_train, y_train)\n",
    "\n"
   ]
  },
  {
   "cell_type": "code",
   "execution_count": 36,
   "id": "4de7603f-f220-4b1a-8719-d2e58b0da57e",
   "metadata": {},
   "outputs": [],
   "source": [
    "# Faça previsões no conjunto de teste\n",
    "y_pred = ensemble_model.predict(X_test)\n",
    "\n"
   ]
  },
  {
   "cell_type": "code",
   "execution_count": 37,
   "id": "1e3f094c-c51e-48f0-a2fb-2cf0e81f888a",
   "metadata": {},
   "outputs": [
    {
     "name": "stdout",
     "output_type": "stream",
     "text": [
      "Acurácia no conjunto de teste: 0.7838333333333334\n"
     ]
    }
   ],
   "source": [
    "# Avalie o modelo ensemble\n",
    "accuracy = accuracy_score(y_test, y_pred)\n",
    "print(\"Acurácia no conjunto de teste:\", accuracy)"
   ]
  },
  {
   "cell_type": "code",
   "execution_count": null,
   "id": "8f020617-2602-4d86-b773-500b53993b02",
   "metadata": {},
   "outputs": [],
   "source": []
  },
  {
   "cell_type": "code",
   "execution_count": null,
   "id": "199fb9e9-1b89-4960-95d7-364c857c5747",
   "metadata": {},
   "outputs": [],
   "source": []
  }
 ],
 "metadata": {
  "kernelspec": {
   "display_name": "Python 3 (ipykernel)",
   "language": "python",
   "name": "python3"
  },
  "language_info": {
   "codemirror_mode": {
    "name": "ipython",
    "version": 3
   },
   "file_extension": ".py",
   "mimetype": "text/x-python",
   "name": "python",
   "nbconvert_exporter": "python",
   "pygments_lexer": "ipython3",
   "version": "3.11.5"
  }
 },
 "nbformat": 4,
 "nbformat_minor": 5
}
